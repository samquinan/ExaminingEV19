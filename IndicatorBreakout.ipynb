{
 "cells": [
  {
   "cell_type": "markdown",
   "metadata": {},
   "source": [
    "# Indicator Derivation\n",
    "\n",
    "Since the full edge gadget is probably too much for anyone to really process, here we break out the derivation of each component indicator set. This should allow us to communicate what exactly we're doing here better.\n",
    "\n",
    "### Initialization Code"
   ]
  },
  {
   "cell_type": "code",
   "execution_count": 2,
   "metadata": {},
   "outputs": [],
   "source": [
    "%matplotlib widget\n",
    "\n",
    "import numpy as np\n",
    "import pandas as pd\n",
    "import matplotlib.pyplot as plt\n",
    "import matplotlib.gridspec as gridspec\n",
    "\n",
    "import ipywidgets as widgets\n",
    "\n",
    "from scipy.interpolate import CubicSpline\n",
    "from scipy.ndimage.filters import gaussian_filter1d\n",
    "\n",
    "# data directory\n",
    "dataDir = \"./data/\""
   ]
  },
  {
   "cell_type": "markdown",
   "metadata": {},
   "source": [
    "### Color Map Specification"
   ]
  },
  {
   "cell_type": "code",
   "execution_count": 3,
   "metadata": {
    "code_folding": [
     0
    ]
   },
   "outputs": [],
   "source": [
    "# color maps -- note convert from data specification to labels\n",
    "cmap_label = ['Traditional', 'Jet', 'Kindlmann', 'Gray']\n",
    "cmap_str = ['Default', 'Jet', 'Kindlmann', 'Gray']\n",
    "\n",
    "# load color maps, and make accessible by label\n",
    "cmaps = dict(zip(cmap_label,list(pd.read_csv(dataDir+v.lower()+\".csv\") for v in cmap_str)))"
   ]
  },
  {
   "cell_type": "markdown",
   "metadata": {},
   "source": [
    "### Indicator Specification"
   ]
  },
  {
   "cell_type": "code",
   "execution_count": 4,
   "metadata": {
    "code_folding": [
     5
    ]
   },
   "outputs": [],
   "source": [
    "param_label = ['L*', 'C*', 'h']\n",
    "indicator_label = ['Cusps (High Curvature)', 'Inflection Points']\n",
    "\n",
    "# dictionary for switching settings\n",
    "# returns (sigma, gradient_threshold, curvature_threshold)\n",
    "indicator_settings = {\n",
    "    'Traditional': {\n",
    "        'L*': {\n",
    "            'Cusps (High Curvature)': (0, None, 90000),\n",
    "            'Inflection Points': (0.6, 295, None)\n",
    "        },\n",
    "        'C*': {\n",
    "            'Cusps (High Curvature)': (0, None, 37000),\n",
    "            'Inflection Points': (0.8, 135, None)\n",
    "        },\n",
    "        'h': {\n",
    "            'Cusps (High Curvature)': (0, None, None),\n",
    "            'Inflection Points': (0, 3, None)\n",
    "        }\n",
    "    },\n",
    "    'Jet': {\n",
    "        'L*': {\n",
    "            'Cusps (High Curvature)': (0, None, None),\n",
    "            'Inflection Points': (0, None, None)\n",
    "        },\n",
    "        'C*': {\n",
    "            'Cusps (High Curvature)': (0, None, None),\n",
    "            'Inflection Points': (0, None, None)\n",
    "        },\n",
    "        'h': {\n",
    "            'Cusps (High Curvature)': (0, None, None),\n",
    "            'Inflection Points': (0, None, None)\n",
    "        }\n",
    "    },\n",
    "    'Kindlmann': {\n",
    "        'L*': {\n",
    "            'Cusps (High Curvature)': (0, None, None),\n",
    "            'Inflection Points': (0, None, None)\n",
    "        },\n",
    "        'C*': {\n",
    "            'Cusps (High Curvature)': (0, None, None),\n",
    "            'Inflection Points': (0, None, None)\n",
    "        },\n",
    "        'h': {\n",
    "            'Cusps (High Curvature)': (0, None, None),\n",
    "            'Inflection Points': (0, None, None)\n",
    "        }\n",
    "    },\n",
    "    'Gray': {\n",
    "        'L*': {\n",
    "            'Cusps (High Curvature)': (0, None, None),\n",
    "            'Inflection Points': (0, None, None)\n",
    "        },\n",
    "        'C*': {\n",
    "            'Cusps (High Curvature)': (0, None, None),\n",
    "            'Inflection Points': (0, None, None)\n",
    "        },\n",
    "        'h': {\n",
    "            'Cusps (High Curvature)': (0, None, None),\n",
    "            'Inflection Points': (0, None, None)\n",
    "        }\n",
    "    }\n",
    "}"
   ]
  },
  {
   "cell_type": "markdown",
   "metadata": {},
   "source": [
    "### Code for Individual Plots"
   ]
  },
  {
   "cell_type": "code",
   "execution_count": 5,
   "metadata": {
    "code_folding": [
     3
    ]
   },
   "outputs": [],
   "source": [
    "# Import Convenience Classes\n",
    "from ConvenienceClasses import SingleLinePlotHandle, Interpolated, ParamControl\n",
    "\n",
    "def plotParam(figure, colormap, param='L*', xs=np.linspace(0,1,10000)):\n",
    "    # setup gridspecs\n",
    "    gs = gridspec.GridSpec(4, 1, height_ratios=[1.5,4,4,4])\n",
    "    \n",
    "    # switch dicts\n",
    "    colormap_switch = {'L*': colormap.L, 'C*':colormap.C, 'h':colormap.h}\n",
    "    ylims_switch = {'L*':[0,100], 'C*':[0,140], 'h':[0,2*np.pi]}\n",
    "    \n",
    "    # generate spline\n",
    "    current_param = Interpolated(colormap.x, colormap_switch[param], 0.5)\n",
    "    \n",
    "    # create image\n",
    "    rgb = colormap[['r','g','b']].values\n",
    "    rgb.shape = (1,rgb.shape[0],rgb.shape[1])\n",
    "    rgb_image = np.repeat(rgb, 50, axis=0)\n",
    "    \n",
    "    axes = []\n",
    "    # plot image\n",
    "    ax = plt.subplot(gs[0,0])\n",
    "    im_obj = ax.imshow(rgb_image, interpolation='nearest', aspect='auto')\n",
    "    ax.get_yaxis().set_visible(False)\n",
    "    ax.tick_params(labelbottom=False)\n",
    "    axes.append(ax)\n",
    "    \n",
    "    # plot spline\n",
    "    ax = plt.subplot(gs[1,0])\n",
    "    l, = ax.plot(xs, current_param.spline(xs), color='C0')\n",
    "    ax.set_xlim([0,1])\n",
    "    ax.tick_params(labelbottom=False)\n",
    "    ax.set_ylim(ylims_switch[param])\n",
    "    if (param is 'h'):\n",
    "        ax.set_yticks([0, np.pi/2, np.pi, 3*np.pi/2, 2*np.pi])\n",
    "        ax.set_yticklabels(['$0$', r'$\\frac{\\pi}{2}$', r'$\\pi$', r'$\\frac{3\\pi}{2}$', r'$2\\pi$'])\n",
    "    current_param.handles.append(SingleLinePlotHandle(ax, l))\n",
    "    axes.append(ax)\n",
    "    \n",
    "    # plot |grad|\n",
    "    ax = plt.subplot(gs[2,0])\n",
    "    l, = ax.plot(xs, np.abs(current_param.grad(xs)), color='C0')\n",
    "    ax.set_xlim([0,1])\n",
    "    ax.tick_params(labelbottom=False)\n",
    "    current_param.handles.append(SingleLinePlotHandle(ax, l))\n",
    "    axes.append(ax)\n",
    "    \n",
    "    # plot |curv|\n",
    "    ax = plt.subplot(gs[3,0])\n",
    "    l, = ax.plot(xs, np.abs(current_param.curv(xs)), color='C0')\n",
    "    ax.set_xlim([0,1])\n",
    "    current_param.handles.append(SingleLinePlotHandle(ax, l))\n",
    "    axes.append(ax)\n",
    "    \n",
    "    return (axes, current_param, im_obj)"
   ]
  },
  {
   "cell_type": "markdown",
   "metadata": {},
   "source": [
    "### Interactive Plot"
   ]
  },
  {
   "cell_type": "code",
   "execution_count": 6,
   "metadata": {
    "code_folding": [
     8,
     16,
     24,
     53,
     63,
     87,
     104,
     112
    ]
   },
   "outputs": [
    {
     "data": {
      "application/vnd.jupyter.widget-view+json": {
       "model_id": "830027b9992b4fb0a4c40079231182ad",
       "version_major": 2,
       "version_minor": 0
      },
      "text/plain": [
       "HBox(children=(VBox(children=(Select(description='Color Map:', options=('Traditional', 'Jet', 'Kindlmann', 'Gr…"
      ]
     },
     "metadata": {},
     "output_type": "display_data"
    }
   ],
   "source": [
    "from matplotlib.ticker import AutoLocator, ScalarFormatter\n",
    "\n",
    "plt.ioff() # turns interactive mode off\n",
    "plt.clf()  # clears current figure\n",
    "\n",
    "# ------------ INITIALIZE CONTROLS, PT. 1 ------------\n",
    "\n",
    "# initialize controls\n",
    "cmap_select = widgets.Select(\n",
    "                                options=cmap_label,\n",
    "                                value='Traditional',\n",
    "                                rows=4,\n",
    "                                description='Color Map:',\n",
    "                                disabled=False\n",
    "                             )\n",
    "\n",
    "param_select = widgets.Select(\n",
    "                                        options=param_label,\n",
    "                                        value='L*',\n",
    "                                        rows=3,\n",
    "                                        description='Channel:',\n",
    "                                        disabled=False\n",
    "                             )\n",
    "\n",
    "indicator_select = widgets.Select(\n",
    "                                        options=indicator_label,\n",
    "                                        value='Cusps (High Curvature)',\n",
    "                                        rows=2,\n",
    "                                        description='Indicators:',\n",
    "                                        disabled=False\n",
    "                             )\n",
    "\n",
    "reset_button = widgets.Button(description='reset')\n",
    "\n",
    "# ------------ SETUP FIGURE ------------\n",
    "\n",
    "# setup figure\n",
    "fig_edgePlot = plt.figure(figsize=(3.5,5))# 11,4\n",
    "fig_edgePlot.subplots_adjust(top=0.95, right=0.95, left=0.17, bottom=0.05)\n",
    "\n",
    "xs = np.linspace(0,1,10000) # values for plotting functions\n",
    "\n",
    "# plot\n",
    "axes, current_param, im_obj = plotParam(fig_edgePlot, cmaps[cmap_select.value], param_select.value, xs=xs)\n",
    "\n",
    "# fig_edgePlot.show() will display a static plot, for interactive see below\n",
    "\n",
    "# ------------ INITIALIZE CONTROLS, PT. 2 ------------\n",
    "\n",
    "current_control = ParamControl(current_param, axes[1], axes[2], axes[3])\n",
    "\n",
    "# ------------ UPDATE SCHEMES ------------\n",
    "    \n",
    "def update(figure, xs=[], control=None, grad=False, curv=False): \n",
    "        \n",
    "    if control is not None: \n",
    "        if   grad: control.update_grad()\n",
    "        elif curv: control.update_curv()\n",
    "        else:      control.update_full(xs)\n",
    "        \n",
    "        figure.canvas.draw_idle()\n",
    "        figure.canvas.flush_events()\n",
    "        \n",
    "def override(figure, axes, colormap, param_str, controls, im_obj=None):\n",
    "    \n",
    "    # override data\n",
    "    param_switch = {'L*': colormap.L, 'C*':colormap.C, 'h':colormap.h}\n",
    "    current_param.override(colormap.x, param_switch[param_str], current_param.sigma)\n",
    "    \n",
    "    # override ylims and ticks\n",
    "    ylims_switch = {'L*':[0,100], 'C*':[0,140], 'h':[0,2*np.pi]}\n",
    "    axes[1].set_ylim(ylims_switch[param_str])\n",
    "    if (param_str == 'h'):\n",
    "        axes[1].set_yticks([0, np.pi/2, np.pi, 3*np.pi/2, 2*np.pi])\n",
    "        axes[1].set_yticklabels(['$0$', r'$\\frac{\\pi}{2}$', r'$\\pi$', r'$\\frac{3\\pi}{2}$', r'$2\\pi$'])\n",
    "    else:\n",
    "        axes[1].yaxis.set_major_locator(AutoLocator())\n",
    "        axes[1].yaxis.set_major_formatter(ScalarFormatter())\n",
    "        \n",
    "    # override indicator colors\n",
    "    colors_switch = {'L*':['#0E6089','#5E50A3'], 'C*':['#0E6089', '#DB7723'], 'h':['#992B65', '#1C9B37']}\n",
    "    cc = colors_switch[param_str]\n",
    "    controls.setColors(cc[0], cc[1])\n",
    "    \n",
    "    # re-draw\n",
    "    update(figure, xs=xs, control=controls)\n",
    "\n",
    "def update_cmap(change, im_obj):\n",
    "    \n",
    "    # create new image\n",
    "    colormap = cmaps[cmap_select.value]\n",
    "    \n",
    "    # create new image\n",
    "    rgb = colormap[['r','g','b']].values\n",
    "    rgb.shape = (1,rgb.shape[0],rgb.shape[1])\n",
    "    rgb_image = np.repeat(rgb, 50, axis=0)\n",
    "    im_obj.set_data(rgb_image)\n",
    "    \n",
    "    # override plots\n",
    "    override(fig_edgePlot, axes, colormap, param_select.value, current_control)\n",
    "    \n",
    "    #reset indicators\n",
    "    update_indicators(current_control)  # indicator_select.value = None\n",
    "\n",
    "def update_param(change):\n",
    "    \n",
    "    # override plots\n",
    "    override(fig_edgePlot, axes, cmaps[cmap_select.value], param_select.value, current_control)\n",
    "    \n",
    "    # reset indicators\n",
    "    update_indicators(current_control)  # indicator_select.value = None\n",
    "\n",
    "def update_indicators(controls):\n",
    "    \n",
    "    s, g_thresh, c_thresh = indicator_settings[cmap_select.value][param_select.value][indicator_select.value]\n",
    "\n",
    "    controls.sigma_control.value = s\n",
    "    controls.gradient_threshold.value = g_thresh if g_thresh is not None else controls.gradient_threshold.max\n",
    "    controls.curvature_threshold.value = c_thresh if c_thresh is not None else controls.curvature_threshold.max\n",
    "\n",
    "# ------------ LINK CONTROLS ------------\n",
    "\n",
    "current_control.sigma_control.observe(       lambda change : update(fig_edgePlot, control=current_control, xs=xs),     names='value' )\n",
    "current_control.curvature_threshold.observe( lambda change : update(fig_edgePlot, control=current_control, curv=True), names='value' )\n",
    "current_control.gradient_threshold.observe(  lambda change : update(fig_edgePlot, control=current_control, grad=True), names='value' )\n",
    "\n",
    "cmap_select.observe( lambda change : update_cmap(change, im_obj), names='value')\n",
    "param_select.observe(update_param, names='value')\n",
    "indicator_select.observe(lambda change : update_indicators(current_control), names='value')\n",
    "\n",
    "reset_button.on_click(lambda b : update_indicators(current_control))\n",
    "\n",
    "# ------------ DISPLAY ------------\n",
    "\n",
    "# update initial controls state\n",
    "update_indicators(current_control)\n",
    "\n",
    "# display\n",
    "widgets.HBox([widgets.VBox([cmap_select,param_select,indicator_select,current_control.widget,reset_button]), fig_edgePlot.canvas])"
   ]
  },
  {
   "cell_type": "markdown",
   "metadata": {},
   "source": [
    "#### TODO -- Properly Handle NaN Roots\n",
    "\n",
    "There's a runtime warning issued by the thesholding command when the profile is (appx.) linear, becuase the SciPy UnivateSpline root finding routine is returning NaNs. ConveienceClasses.py has been updated to remove the NaNs from the processing, but we should determine and handle the actual root of the probelm..."
   ]
  },
  {
   "cell_type": "code",
   "execution_count": 7,
   "metadata": {
    "code_folding": [
     0
    ],
    "scrolled": true
   },
   "outputs": [
    {
     "name": "stderr",
     "output_type": "stream",
     "text": [
      "/Users/samquinan/Development/anaconda/lib/python3.5/site-packages/ipykernel_launcher.py:7: RuntimeWarning: invalid value encountered in greater\n",
      "  import sys\n"
     ]
    },
    {
     "data": {
      "text/plain": [
       "array([], dtype=float64)"
      ]
     },
     "execution_count": 7,
     "metadata": {},
     "output_type": "execute_result"
    }
   ],
   "source": [
    "# EXAMPLE -- Generates Runtime Warning\n",
    "cmap_select.value = 'Kindlmann'\n",
    "param_select.value = 'L*'\n",
    "update_indicators(current_control)\n",
    "\n",
    "temp_param = current_control._param\n",
    "temp_param._curv_roots[(np.abs(temp_param._curv(temp_param._curv_roots)) > current_control.curvature_threshold.value)]\n",
    "# temp_param._spline.roots(discontinuity=False)"
   ]
  }
 ],
 "metadata": {
  "kernelspec": {
   "display_name": "Python 3",
   "language": "python",
   "name": "python3"
  },
  "language_info": {
   "codemirror_mode": {
    "name": "ipython",
    "version": 3
   },
   "file_extension": ".py",
   "mimetype": "text/x-python",
   "name": "python",
   "nbconvert_exporter": "python",
   "pygments_lexer": "ipython3",
   "version": "3.5.4"
  }
 },
 "nbformat": 4,
 "nbformat_minor": 2
}
